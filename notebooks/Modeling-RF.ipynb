{
 "cells": [
  {
   "cell_type": "code",
   "execution_count": 2,
   "metadata": {
    "collapsed": true
   },
   "outputs": [],
   "source": [
    "%matplotlib inline\n",
    "import matplotlib.pyplot as plt\n",
    "import seaborn as sn\n",
    "\n",
    "import pandas as pd\n",
    "import numpy as np\n",
    "from sklearn.cross_validation import train_test_split\n",
    "from sklearn.ensemble import RandomForestClassifier\n",
    "from sklearn.metrics import confusion_matrix\n",
    "\n",
    "import os\n",
    "import pickle\n",
    "from collections import defaultdict"
   ]
  },
  {
   "cell_type": "code",
   "execution_count": 3,
   "metadata": {
    "collapsed": false
   },
   "outputs": [
    {
     "ename": "FileNotFoundError",
     "evalue": "[Errno 2] No such file or directory: '/Users/Sepehr/dev/data-projects/chest-accelerometer/notebooks/data'",
     "output_type": "error",
     "traceback": [
      "\u001b[0;31m---------------------------------------------------------------------------\u001b[0m",
      "\u001b[0;31mFileNotFoundError\u001b[0m                         Traceback (most recent call last)",
      "\u001b[0;32m<ipython-input-3-10b664ef4774>\u001b[0m in \u001b[0;36m<module>\u001b[0;34m()\u001b[0m\n\u001b[1;32m     19\u001b[0m \u001b[0;31m# Where the data lives\u001b[0m\u001b[0;34m\u001b[0m\u001b[0;34m\u001b[0m\u001b[0m\n\u001b[1;32m     20\u001b[0m \u001b[0mDATA_DIR\u001b[0m \u001b[0;34m=\u001b[0m \u001b[0mos\u001b[0m\u001b[0;34m.\u001b[0m\u001b[0mpath\u001b[0m\u001b[0;34m.\u001b[0m\u001b[0mjoin\u001b[0m\u001b[0;34m(\u001b[0m\u001b[0mos\u001b[0m\u001b[0;34m.\u001b[0m\u001b[0mgetcwd\u001b[0m\u001b[0;34m(\u001b[0m\u001b[0;34m)\u001b[0m\u001b[0;34m,\u001b[0m \u001b[0;34m'data'\u001b[0m\u001b[0;34m)\u001b[0m\u001b[0;34m\u001b[0m\u001b[0m\n\u001b[0;32m---> 21\u001b[0;31m \u001b[0mCSV_FILES\u001b[0m \u001b[0;34m=\u001b[0m \u001b[0;34m[\u001b[0m\u001b[0mos\u001b[0m\u001b[0;34m.\u001b[0m\u001b[0mpath\u001b[0m\u001b[0;34m.\u001b[0m\u001b[0mjoin\u001b[0m\u001b[0;34m(\u001b[0m\u001b[0mDATA_DIR\u001b[0m\u001b[0;34m,\u001b[0m \u001b[0mf\u001b[0m\u001b[0;34m)\u001b[0m \u001b[0;32mfor\u001b[0m \u001b[0mf\u001b[0m \u001b[0;32min\u001b[0m \u001b[0mos\u001b[0m\u001b[0;34m.\u001b[0m\u001b[0mlistdir\u001b[0m\u001b[0;34m(\u001b[0m\u001b[0mDATA_DIR\u001b[0m\u001b[0;34m)\u001b[0m \u001b[0;32mif\u001b[0m \u001b[0mf\u001b[0m\u001b[0;34m.\u001b[0m\u001b[0mendswith\u001b[0m\u001b[0;34m(\u001b[0m\u001b[0;34m'.csv'\u001b[0m\u001b[0;34m)\u001b[0m\u001b[0;34m]\u001b[0m\u001b[0;34m\u001b[0m\u001b[0m\n\u001b[0m",
      "\u001b[0;31mFileNotFoundError\u001b[0m: [Errno 2] No such file or directory: '/Users/Sepehr/dev/data-projects/chest-accelerometer/notebooks/data'"
     ]
    }
   ],
   "source": [
    "# Meta data and environment vars\n",
    "\n",
    "COLS = [\"_idx\", \"x_accel\", \"y_accel\", \"z_accel\", \"target\"]\n",
    "CORE_FEATURES = [\"x_accel\", \"y_accel\", \"z_accel\"]\n",
    "\n",
    "TARGET_LABELS = {\n",
    "    1: \"Working at Computer\",\n",
    "    2: \"Standing Up, Walking and Going updown stairs\",\n",
    "    3: \"Standing\",\n",
    "    4: \"Walking\",\n",
    "    5: \"Going UpDown Stairs\",\n",
    "    6: \"Walking and Talking with Someone\",\n",
    "    7: \"Talking while Standing\",        \n",
    "}\n",
    "VALID_TARGETS = list(TARGET_LABELS.keys()) # i.e: 1-7\n",
    "\n",
    "SAMPLING_RATE = 52 #data recorded at 52HZ (aka 52 rows per second)\n",
    "\n",
    "# Where the data lives\n",
    "DATA_DIR = os.path.join(os.getcwd(), 'data')\n",
    "CSV_FILES = [os.path.join(DATA_DIR, f) for f in os.listdir(DATA_DIR) if f.endswith('.csv')]"
   ]
  },
  {
   "cell_type": "code",
   "execution_count": 3,
   "metadata": {
    "collapsed": false
   },
   "outputs": [],
   "source": [
    "# Read files, keeping only feature columns and target\n",
    "dfs = [pd.read_csv(f, names=COLS, usecols=CORE_FEATURES+['target']) for f in CSV_FILES]\n",
    "master = pd.concat(dfs).reset_index()"
   ]
  },
  {
   "cell_type": "code",
   "execution_count": 4,
   "metadata": {
    "collapsed": true
   },
   "outputs": [],
   "source": [
    "# Ensure targets are valid values (1-7)\n",
    "master_valid = master[master['target'].isin(VALID_TARGETS)]"
   ]
  },
  {
   "cell_type": "markdown",
   "metadata": {},
   "source": [
    "# Alright, let's establish a baseline \n",
    "How well would a random classifier do?"
   ]
  },
  {
   "cell_type": "code",
   "execution_count": 5,
   "metadata": {
    "collapsed": false
   },
   "outputs": [
    {
     "data": {
      "text/plain": [
       "0.31649036984115347"
      ]
     },
     "execution_count": 5,
     "metadata": {},
     "output_type": "execute_result"
    }
   ],
   "source": [
    "(master_valid.groupby('target').count()['index'] / len(master_valid)).max()"
   ]
  },
  {
   "cell_type": "markdown",
   "metadata": {},
   "source": [
    "A random classifier would be right around 31.6% of the time"
   ]
  },
  {
   "cell_type": "code",
   "execution_count": null,
   "metadata": {
    "collapsed": false
   },
   "outputs": [],
   "source": [
    "\"\"\"\n",
    "**Warning, this takes a while to run!**\n",
    "\n",
    "2nd baseline: \n",
    "\n",
    "Just throw the raw features into an RF to see what we get.\n",
    "\n",
    "Score ~0.72. Not bad. At random, we'd expect 0.32\n",
    "\n",
    "Note: this isn't even treating the data as a time-series. \n",
    "train_test_split shuffles the data\n",
    "\n",
    "\"\"\"\n",
    "\n",
    "X = master_valid[CORE_FEATURES]\n",
    "y = master_valid['target']\n",
    "\n",
    "X_train, X_test, y_train, y_test = train_test_split(X, y, test_size=0.2)\n",
    "\n",
    "rf_baseline = RandomForestClassifier(n_estimators=100)\n",
    "rf_baseline.fit(X_train, y_train)\n",
    "\n",
    "y_pred = rf_baseline.predict(X_test)\n",
    "\n",
    "conf_mat = confusion_matrix(y_test, y_pred)\n",
    "labels = list(TARGET_LABELS.values())\n",
    "sn.heatmap(conf_mat, xticklabels=labels, yticklabels=labels)\n",
    "\n",
    "test_score = rf_baseline.score(X_test, y_test)\n",
    "print(\"Test score: %f\"%test_score)"
   ]
  },
  {
   "cell_type": "code",
   "execution_count": 5,
   "metadata": {
    "collapsed": true
   },
   "outputs": [],
   "source": [
    "# Helper functions\n",
    "\n",
    "def window(width, overlap, max_idx):\n",
    "    \"\"\"\n",
    "    Generates tuples of indices that define a window\n",
    "    of given width and overlap. \n",
    "    \n",
    "    For example:\n",
    "    window(width=10, overlap=0.5, max_length=30)\n",
    "    (0, 10)\n",
    "    (5, 15)\n",
    "    (10, 20)\n",
    "    (15, 25)\n",
    "    Note: it trims the end; i.e. won't return (25, 30)\n",
    "    \"\"\"\n",
    "    start = 0\n",
    "    if overlap < 0.0 or overlap >= 1.:\n",
    "        raise ValueError(\"overlap needs to be a number between 0 and 1\")\n",
    "    while True:\n",
    "        end = start + width\n",
    "        if end >= max_idx:\n",
    "            return None\n",
    "        yield start, end\n",
    "        start += max(int((1-overlap)*width), 1)\n",
    "\n",
    "        \n",
    "def window_df(df, width, overlap):\n",
    "    \"\"\"\n",
    "    Applies window to a dataframe\n",
    "    \"\"\"\n",
    "    windows = window(width, overlap, len(df))\n",
    "    for start, end in windows:\n",
    "        yield df[start:end]\n",
    "\n",
    "\n",
    "def standardize(df):\n",
    "    \"\"\"\n",
    "    Make the mean of data 0 with standard dev of 1\n",
    "    \"\"\"\n",
    "    return (df - df.mean()) / df.std()\n",
    "\n",
    "\n",
    "def abs_rfft( series ):\n",
    "    complex_fourier = np.fft.rfft( series )\n",
    "    return np.absolute(complex_fourier)"
   ]
  },
  {
   "cell_type": "code",
   "execution_count": 11,
   "metadata": {
    "collapsed": false,
    "scrolled": true
   },
   "outputs": [
    {
     "name": "stderr",
     "output_type": "stream",
     "text": [
      "/Applications/anaconda/lib/python3.4/site-packages/pandas/core/frame.py:2320: SettingWithCopyWarning: \n",
      "A value is trying to be set on a copy of a slice from a DataFrame.\n",
      "Try using .loc[row_indexer,col_indexer] = value instead\n",
      "\n",
      "See the caveats in the documentation: http://pandas.pydata.org/pandas-docs/stable/indexing.html#indexing-view-versus-copy\n",
      "  self[k1] = value[k2]\n"
     ]
    }
   ],
   "source": [
    "# Generating samples takes a few minutes.\n",
    "# TODO: explore panda's rolling_window function\n",
    "\n",
    "SAMPLE_SECONDS = 5\n",
    "SAMPLE_OVERLAP = 0.5\n",
    "\n",
    "feature_matrix = []\n",
    "for target, df in master_valid.groupby('target'):\n",
    "    \n",
    "    # 0-center the mean and normalize. this adds about 5 points\n",
    "    df[CORE_FEATURES] = standardize(df[CORE_FEATURES])\n",
    "    \n",
    "    new_group = defaultdict(list)\n",
    "    new_group['target'] = target\n",
    "    samples = window_df(df, SAMPLE_SECONDS*SAMPLING_RATE, SAMPLE_OVERLAP)\n",
    "    for idx,sample in enumerate(samples):\n",
    "        \n",
    "        # means of amplitudes\n",
    "        means = sample[CORE_FEATURES].mean()\n",
    "        new_group['x_accel_mean'].append(means['x_accel'])\n",
    "        new_group['y_accel_mean'].append(means['y_accel'])\n",
    "        new_group['z_accel_mean'].append(means['z_accel'])\n",
    "        \n",
    "        # standard deviation of amplitudes\n",
    "        stds = sample[CORE_FEATURES].std()\n",
    "        new_group['x_accel_std'].append(stds['x_accel'])\n",
    "        new_group['y_accel_std'].append(stds['y_accel'])\n",
    "        new_group['z_accel_std'].append(stds['z_accel'])\n",
    "        \n",
    "        # max-min\n",
    "        new_group['x_max_min'].append(max(sample.x_accel) - min(sample.x_accel))\n",
    "        new_group['y_max_min'].append(max(sample.y_accel) - min(sample.y_accel))\n",
    "        new_group['z_max_min'].append(max(sample.z_accel) - min(sample.z_accel))\n",
    "        \n",
    "        # xy, xz, yz correlations\n",
    "        corrs = sample[CORE_FEATURES].corr()\n",
    "        new_group['xy_corr'].append(corrs.loc['x_accel', 'y_accel'])\n",
    "        new_group['xz_corr'].append(corrs.loc['x_accel', 'z_accel'])\n",
    "        new_group['yz_corr'].append(corrs.loc['y_accel', 'z_accel'])\n",
    "        \n",
    "        # root-mean-square(x, y, z)\n",
    "        rms = np.sqrt(np.mean(np.square(sample[CORE_FEATURES]), axis=1))\n",
    "        new_group['rms_mean'].append(rms.mean())\n",
    "        new_group['rms_std'].append(rms.std())\n",
    "\n",
    "        \n",
    "        # fourier transforms! \n",
    "        x_fft = abs_rfft(sample['x_accel'])\n",
    "        y_fft = abs_rfft(sample['y_accel'])\n",
    "        z_fft = abs_rfft(sample['z_accel'])\n",
    "        \n",
    "        new_group['x_fft_max'].append(x_fft.max())\n",
    "        new_group['y_fft_max'].append(y_fft.max())\n",
    "        new_group['z_fft_max'].append(z_fft.max())\n",
    "\n",
    "        new_group['x_fft_min'].append(x_fft.min())\n",
    "        new_group['y_fft_min'].append(y_fft.min())\n",
    "        new_group['z_fft_min'].append(z_fft.min())\n",
    "        \n",
    "        new_group['x_fft_mean'].append(x_fft.mean())\n",
    "        new_group['y_fft_mean'].append(y_fft.mean())\n",
    "        new_group['z_fft_mean'].append(z_fft.mean())\n",
    "\n",
    "        new_group['x_fft_std'].append(x_fft.std())\n",
    "        new_group['y_fft_std'].append(y_fft.std())\n",
    "        new_group['z_fft_std'].append(z_fft.std())\n",
    "        \n",
    "    feature_matrix.append(pd.DataFrame(new_group))\n",
    "\n",
    "feature_matrix_df = pd.concat(feature_matrix)"
   ]
  },
  {
   "cell_type": "code",
   "execution_count": 10,
   "metadata": {
    "collapsed": false
   },
   "outputs": [],
   "source": [
    "feature_matrix_df = pickle.load(open(\"../data/engineered/features.pkl\", 'rb'))"
   ]
  },
  {
   "cell_type": "code",
   "execution_count": 11,
   "metadata": {
    "collapsed": false
   },
   "outputs": [],
   "source": [
    "X = feature_matrix_df.drop('target', axis=1)\n",
    "y = feature_matrix_df['target']\n",
    "X_train, X_test, y_train, y_test = train_test_split(X, y, test_size=0.2)"
   ]
  },
  {
   "cell_type": "code",
   "execution_count": 12,
   "metadata": {
    "collapsed": false
   },
   "outputs": [],
   "source": [
    "weights = y_train.groupby(y_train.values).count().to_dict()"
   ]
  },
  {
   "cell_type": "code",
   "execution_count": 13,
   "metadata": {
    "collapsed": false
   },
   "outputs": [
    {
     "data": {
      "text/plain": [
       "{1: 3741, 2: 295, 3: 1341, 4: 2201, 5: 308, 6: 288, 7: 3653}"
      ]
     },
     "execution_count": 13,
     "metadata": {},
     "output_type": "execute_result"
    }
   ],
   "source": [
    "weights"
   ]
  },
  {
   "cell_type": "code",
   "execution_count": 14,
   "metadata": {
    "collapsed": false
   },
   "outputs": [
    {
     "name": "stdout",
     "output_type": "stream",
     "text": [
      "Test score: 0.916469\n"
     ]
    },
    {
     "name": "stderr",
     "output_type": "stream",
     "text": [
      "/Applications/anaconda/lib/python3.4/site-packages/matplotlib/collections.py:590: FutureWarning: elementwise comparison failed; returning scalar instead, but in the future will perform elementwise comparison\n",
      "  if self._edgecolors == str('face'):\n"
     ]
    },
    {
     "data": {
      "image/png": "[encoded data removed]",
      "text/plain": [
       "<matplotlib.figure.Figure at 0x10be202e8>"
      ]
     },
     "metadata": {},
     "output_type": "display_data"
    }
   ],
   "source": [
    "rf = RandomForestClassifier(class_weight=weights, n_estimators=100)\n",
    "rf.fit(X_train, y_train)\n",
    "\n",
    "y_pred = rf.predict(X_test)\n",
    "conf_mat = confusion_matrix(y_test, y_pred)\n",
    "labels = list(TARGET_LABELS.values())\n",
    "sn.heatmap(conf_mat, xticklabels=labels, yticklabels=labels)\n",
    "\n",
    "test_score = rf.score(X_test, y_test)\n",
    "print(\"Test score: %f\"%test_score)"
   ]
  },
  {
   "cell_type": "code",
   "execution_count": 15,
   "metadata": {
    "collapsed": false
   },
   "outputs": [
    {
     "data": {
      "image/png": "[encoded data removed]",
      "text/plain": [
       "<matplotlib.figure.Figure at 0x10f9e97b8>"
      ]
     },
     "metadata": {},
     "output_type": "display_data"
    }
   ],
   "source": [
    "def plot_feature_importances(rf_model, feature_labels):\n",
    "    # Features, sorted by importance:\n",
    "    rf_feats = zip(rf_model.feature_importances_, feature_labels)\n",
    "    rf_feats_sorted = sorted(rf_feats, key=lambda t: t[0])\n",
    "\n",
    "    # Prepare to plot!\n",
    "    x_vals = range(len(rf_feats_sorted))\n",
    "    y_vals = [val for val,name in rf_feats_sorted]\n",
    "    y_ticks = [name for val,name in rf_feats_sorted]\n",
    "    fig = plt.figure(figsize=(12,10))\n",
    "    plt.title(\"Relative feature importances\")\n",
    "    plt.tick_params(labelsize='large')\n",
    "    plt.yticks(x_vals, y_ticks)\n",
    "    plt.barh(bottom=x_vals,width=y_vals)\n",
    "\n",
    "plot_feature_importances(rf, list(X.columns))"
   ]
  },
  {
   "cell_type": "code",
   "execution_count": null,
   "metadata": {
    "collapsed": true
   },
   "outputs": [],
   "source": [
    "with open('feature_matrix.pkl', 'wb') as f:\n",
    "    pickle.dump(feature_matrix, f)"
   ]
  },
  {
   "cell_type": "code",
   "execution_count": 4,
   "metadata": {
    "collapsed": true
   },
   "outputs": [],
   "source": [
    "test_mat = pickle.load(open('../data/engineered/features.pkl', 'rb'))"
   ]
  },
  {
   "cell_type": "code",
   "execution_count": 5,
   "metadata": {
    "collapsed": false
   },
   "outputs": [
    {
     "data": {
      "text/html": [
       "<div>\n",
       "<table border=\"1\" class=\"dataframe\">\n",
       "  <thead>\n",
       "    <tr style=\"text-align: right;\">\n",
       "      <th></th>\n",
       "      <th>rms_mean</th>\n",
       "      <th>rms_std</th>\n",
       "      <th>target</th>\n",
       "      <th>x_accel_mean</th>\n",
       "      <th>x_accel_std</th>\n",
       "      <th>x_fft_max</th>\n",
       "      <th>x_fft_mean</th>\n",
       "      <th>x_fft_min</th>\n",
       "      <th>x_fft_std</th>\n",
       "      <th>x_max_min</th>\n",
       "      <th>...</th>\n",
       "      <th>y_fft_std</th>\n",
       "      <th>y_max_min</th>\n",
       "      <th>yz_corr</th>\n",
       "      <th>z_accel_mean</th>\n",
       "      <th>z_accel_std</th>\n",
       "      <th>z_fft_max</th>\n",
       "      <th>z_fft_mean</th>\n",
       "      <th>z_fft_min</th>\n",
       "      <th>z_fft_std</th>\n",
       "      <th>z_max_min</th>\n",
       "    </tr>\n",
       "  </thead>\n",
       "  <tbody>\n",
       "    <tr>\n",
       "      <th>0</th>\n",
       "      <td>1.959149</td>\n",
       "      <td>0.923956</td>\n",
       "      <td>1</td>\n",
       "      <td>-1.414923</td>\n",
       "      <td>2.193511</td>\n",
       "      <td>367.880058</td>\n",
       "      <td>16.379757</td>\n",
       "      <td>1.268508</td>\n",
       "      <td>44.738162</td>\n",
       "      <td>8.869844</td>\n",
       "      <td>...</td>\n",
       "      <td>42.551275</td>\n",
       "      <td>8.454609</td>\n",
       "      <td>0.072548</td>\n",
       "      <td>0.466258</td>\n",
       "      <td>1.281418</td>\n",
       "      <td>125.187963</td>\n",
       "      <td>14.351176</td>\n",
       "      <td>0.787212</td>\n",
       "      <td>18.118600</td>\n",
       "      <td>8.849608</td>\n",
       "    </tr>\n",
       "    <tr>\n",
       "      <th>1</th>\n",
       "      <td>0.925890</td>\n",
       "      <td>0.472305</td>\n",
       "      <td>1</td>\n",
       "      <td>0.150987</td>\n",
       "      <td>0.977654</td>\n",
       "      <td>88.873435</td>\n",
       "      <td>10.679498</td>\n",
       "      <td>0.767915</td>\n",
       "      <td>11.978797</td>\n",
       "      <td>6.644999</td>\n",
       "      <td>...</td>\n",
       "      <td>7.381734</td>\n",
       "      <td>4.057010</td>\n",
       "      <td>0.160320</td>\n",
       "      <td>0.741103</td>\n",
       "      <td>1.142808</td>\n",
       "      <td>192.686653</td>\n",
       "      <td>11.598640</td>\n",
       "      <td>0.527574</td>\n",
       "      <td>22.017494</td>\n",
       "      <td>5.996721</td>\n",
       "    </tr>\n",
       "    <tr>\n",
       "      <th>2</th>\n",
       "      <td>0.711839</td>\n",
       "      <td>0.251463</td>\n",
       "      <td>1</td>\n",
       "      <td>-0.190464</td>\n",
       "      <td>0.334158</td>\n",
       "      <td>49.520600</td>\n",
       "      <td>4.707660</td>\n",
       "      <td>0.206733</td>\n",
       "      <td>5.025671</td>\n",
       "      <td>2.982866</td>\n",
       "      <td>...</td>\n",
       "      <td>2.867747</td>\n",
       "      <td>3.556145</td>\n",
       "      <td>-0.344395</td>\n",
       "      <td>1.121508</td>\n",
       "      <td>0.447430</td>\n",
       "      <td>291.592140</td>\n",
       "      <td>5.700229</td>\n",
       "      <td>0.063156</td>\n",
       "      <td>25.845999</td>\n",
       "      <td>2.610432</td>\n",
       "    </tr>\n",
       "    <tr>\n",
       "      <th>3</th>\n",
       "      <td>0.748625</td>\n",
       "      <td>0.063032</td>\n",
       "      <td>1</td>\n",
       "      <td>-0.159113</td>\n",
       "      <td>0.082162</td>\n",
       "      <td>41.369401</td>\n",
       "      <td>1.301660</td>\n",
       "      <td>0.102246</td>\n",
       "      <td>3.620334</td>\n",
       "      <td>0.541444</td>\n",
       "      <td>...</td>\n",
       "      <td>0.724706</td>\n",
       "      <td>0.530917</td>\n",
       "      <td>-0.050753</td>\n",
       "      <td>1.282337</td>\n",
       "      <td>0.109056</td>\n",
       "      <td>333.407551</td>\n",
       "      <td>3.578520</td>\n",
       "      <td>0.092197</td>\n",
       "      <td>28.962138</td>\n",
       "      <td>0.622301</td>\n",
       "    </tr>\n",
       "    <tr>\n",
       "      <th>4</th>\n",
       "      <td>0.706063</td>\n",
       "      <td>0.048558</td>\n",
       "      <td>1</td>\n",
       "      <td>-0.163051</td>\n",
       "      <td>0.075189</td>\n",
       "      <td>42.393223</td>\n",
       "      <td>1.163080</td>\n",
       "      <td>0.005352</td>\n",
       "      <td>3.717513</td>\n",
       "      <td>0.452844</td>\n",
       "      <td>...</td>\n",
       "      <td>0.556586</td>\n",
       "      <td>0.310537</td>\n",
       "      <td>-0.401795</td>\n",
       "      <td>1.207953</td>\n",
       "      <td>0.090890</td>\n",
       "      <td>314.067721</td>\n",
       "      <td>3.265872</td>\n",
       "      <td>0.007846</td>\n",
       "      <td>27.284120</td>\n",
       "      <td>0.460665</td>\n",
       "    </tr>\n",
       "  </tbody>\n",
       "</table>\n",
       "<p>5 rows × 27 columns</p>\n",
       "</div>"
      ],
      "text/plain": [
       "   rms_mean   rms_std  target  x_accel_mean  x_accel_std   x_fft_max  \\\n",
       "0  1.959149  0.923956       1     -1.414923     2.193511  367.880058   \n",
       "1  0.925890  0.472305       1      0.150987     0.977654   88.873435   \n",
       "2  0.711839  0.251463       1     -0.190464     0.334158   49.520600   \n",
       "3  0.748625  0.063032       1     -0.159113     0.082162   41.369401   \n",
       "4  0.706063  0.048558       1     -0.163051     0.075189   42.393223   \n",
       "\n",
       "   x_fft_mean  x_fft_min  x_fft_std  x_max_min    ...      y_fft_std  \\\n",
       "0   16.379757   1.268508  44.738162   8.869844    ...      42.551275   \n",
       "1   10.679498   0.767915  11.978797   6.644999    ...       7.381734   \n",
       "2    4.707660   0.206733   5.025671   2.982866    ...       2.867747   \n",
       "3    1.301660   0.102246   3.620334   0.541444    ...       0.724706   \n",
       "4    1.163080   0.005352   3.717513   0.452844    ...       0.556586   \n",
       "\n",
       "   y_max_min   yz_corr  z_accel_mean  z_accel_std   z_fft_max  z_fft_mean  \\\n",
       "0   8.454609  0.072548      0.466258     1.281418  125.187963   14.351176   \n",
       "1   4.057010  0.160320      0.741103     1.142808  192.686653   11.598640   \n",
       "2   3.556145 -0.344395      1.121508     0.447430  291.592140    5.700229   \n",
       "3   0.530917 -0.050753      1.282337     0.109056  333.407551    3.578520   \n",
       "4   0.310537 -0.401795      1.207953     0.090890  314.067721    3.265872   \n",
       "\n",
       "   z_fft_min  z_fft_std  z_max_min  \n",
       "0   0.787212  18.118600   8.849608  \n",
       "1   0.527574  22.017494   5.996721  \n",
       "2   0.063156  25.845999   2.610432  \n",
       "3   0.092197  28.962138   0.622301  \n",
       "4   0.007846  27.284120   0.460665  \n",
       "\n",
       "[5 rows x 27 columns]"
      ]
     },
     "execution_count": 5,
     "metadata": {},
     "output_type": "execute_result"
    }
   ],
   "source": [
    "test_mat.head()"
   ]
  },
  {
   "cell_type": "code",
   "execution_count": null,
   "metadata": {
    "collapsed": true
   },
   "outputs": [],
   "source": []
  }
 ],
 "metadata": {
  "kernelspec": {
   "display_name": "Python 3",
   "language": "python",
   "name": "python3"
  },
  "language_info": {
   "codemirror_mode": {
    "name": "ipython",
    "version": 3
   },
   "file_extension": ".py",
   "mimetype": "text/x-python",
   "name": "python",
   "nbconvert_exporter": "python",
   "pygments_lexer": "ipython3",
   "version": "3.4.4"
  }
 },
 "nbformat": 4,
 "nbformat_minor": 0
}
