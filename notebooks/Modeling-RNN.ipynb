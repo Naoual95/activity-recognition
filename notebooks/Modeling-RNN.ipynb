{
 "cells": [
  {
   "cell_type": "code",
   "execution_count": 1,
   "metadata": {
    "collapsed": true
   },
   "outputs": [],
   "source": [
    "%matplotlib inline\n",
    "import matplotlib.pyplot as plt\n",
    "import pandas as pd\n",
    "import numpy as np\n",
    "import os\n",
    "import seaborn as sn\n",
    "import random"
   ]
  },
  {
   "cell_type": "code",
   "execution_count": 2,
   "metadata": {
    "collapsed": false
   },
   "outputs": [],
   "source": [
    "Hz = 52\n",
    "\n",
    "# File names and locations\n",
    "DATA_DIR = \"../data\"\n",
    "CSV_FILES = [os.path.join(DATA_DIR, f) for f \n",
    "        in os.listdir(DATA_DIR) \n",
    "        if f.endswith('.csv')]\n",
    "\n",
    "# Column names\n",
    "DATA_COLS = [\"x_accel\", \"y_accel\", \"z_accel\"] # time series data\n",
    "TARGET_COL = \"target\" # the activity\n",
    "COLS = [\"_idx\"] + DATA_COLS + [TARGET_COL]\n",
    "\n",
    "VALID_TARGETS = range(1,8)"
   ]
  },
  {
   "cell_type": "code",
   "execution_count": 3,
   "metadata": {
    "collapsed": true
   },
   "outputs": [],
   "source": [
    "def standardize(df):\n",
    "    \"\"\"\n",
    "    Make the mean of data 0 with standard dev of 1\n",
    "    \"\"\"\n",
    "    return (df - df.mean()) / df.std()"
   ]
  },
  {
   "cell_type": "code",
   "execution_count": 4,
   "metadata": {
    "collapsed": false
   },
   "outputs": [],
   "source": [
    "dfs = [pd.read_csv(f, names=COLS) for f in CSV_FILES]"
   ]
  },
  {
   "cell_type": "code",
   "execution_count": 5,
   "metadata": {
    "collapsed": true
   },
   "outputs": [],
   "source": [
    "train_size = 12\n",
    "train_dfs = pd.concat(dfs[0:train_size])\n",
    "val_dfs = pd.concat(dfs[train_size:])"
   ]
  },
  {
   "cell_type": "code",
   "execution_count": 6,
   "metadata": {
    "collapsed": true
   },
   "outputs": [],
   "source": [
    "X_train = standardize(train_dfs[DATA_COLS])\n",
    "X_val = standardize(val_dfs[DATA_COLS])\n",
    "\n",
    "y_train = train_dfs[TARGET_COL]\n",
    "y_val = val_dfs[TARGET_COL]"
   ]
  },
  {
   "cell_type": "code",
   "execution_count": null,
   "metadata": {
    "collapsed": false
   },
   "outputs": [],
   "source": [
    "from keras.models import Sequential\n",
    "from keras.layers import LSTM, Dense\n",
    "\n",
    "data_dim = len(DATA_COLS)\n",
    "timesteps = 5 * Hz  # 5 seconds\n",
    "nb_classes = len(VALID_TARGETS)\n",
    "\n",
    "# expected input data shape: (batch_size, timesteps, data_dim)\n",
    "model = Sequential()\n",
    "model.add(LSTM(6, return_sequences=True,\n",
    "               input_shape=(timesteps, data_dim)))  # returns a sequence of vectors of dimension 32\n",
    "model.add(LSTM(6, return_sequences=True))  # returns a sequence of vectors of dimension 32\n",
    "model.add(LSTM(6))  # return a single vector of dimension 32\n",
    "model.add(Dense(7, activation='softmax'))\n",
    "\n",
    "model.compile(loss='categorical_crossentropy', optimizer='rmsprop')\n",
    "\n",
    "model.fit(X_train, y_train,\n",
    "          batch_size=30, nb_epoch=5, show_accuracy=True,\n",
    "          validation_data=(X_val, y_val))"
   ]
  },
  {
   "cell_type": "code",
   "execution_count": null,
   "metadata": {
    "collapsed": true
   },
   "outputs": [],
   "source": []
  }
 ],
 "metadata": {
  "kernelspec": {
   "display_name": "Python 3",
   "language": "python",
   "name": "python3"
  },
  "language_info": {
   "codemirror_mode": {
    "name": "ipython",
    "version": 3
   },
   "file_extension": ".py",
   "mimetype": "text/x-python",
   "name": "python",
   "nbconvert_exporter": "python",
   "pygments_lexer": "ipython3",
   "version": "3.4.4"
  }
 },
 "nbformat": 4,
 "nbformat_minor": 0
}
