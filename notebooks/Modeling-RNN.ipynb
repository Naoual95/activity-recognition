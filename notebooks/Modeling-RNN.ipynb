{
 "cells": [
  {
   "cell_type": "code",
   "execution_count": 8,
   "metadata": {
    "collapsed": true
   },
   "outputs": [],
   "source": [
    "%matplotlib inline\n",
    "import matplotlib.pyplot as plt\n",
    "import pandas as pd\n",
    "import numpy as np\n",
    "import os\n",
    "import seaborn as sn"
   ]
  },
  {
   "cell_type": "code",
   "execution_count": 9,
   "metadata": {
    "collapsed": false
   },
   "outputs": [],
   "source": [
    "# Meta data and environment vars\n",
    "\n",
    "COLS = [\"_idx\", \"x_accel\", \"y_accel\", \"z_accel\", \"target\"]\n",
    "CORE_FEATURES = [\"x_accel\", \"y_accel\", \"z_accel\"]\n",
    "\n",
    "TARGET_LABELS = {\n",
    "    1: \"Working at Computer\",\n",
    "    2: \"Standing Up, Walking and Going updown stairs\",\n",
    "    3: \"Standing\",\n",
    "    4: \"Walking\",\n",
    "    5: \"Going UpDown Stairs\",\n",
    "    6: \"Walking and Talking with Someone\",\n",
    "    7: \"Talking while Standing\",        \n",
    "}\n",
    "VALID_TARGETS = list(TARGET_LABELS.keys()) # i.e: 1-7\n",
    "\n",
    "FREQ = 52 #data recorded at 52HZ (aka 52 rows per second)\n",
    "\n",
    "# Where the data lives\n",
    "DATA_DIR = os.path.join(os.getcwd(), 'data')\n",
    "CSV_FILES = [os.path.join(DATA_DIR, f) for f in os.listdir(DATA_DIR) if f.endswith('.csv')]"
   ]
  },
  {
   "cell_type": "code",
   "execution_count": 10,
   "metadata": {
    "collapsed": true
   },
   "outputs": [],
   "source": [
    "def standardize(df, cols):\n",
    "    \"\"\"\n",
    "    Make the mean of data 0 with standard dev of 1\n",
    "    \"\"\"\n",
    "    return (df[cols] - df[cols].mean()) / df[cols].std()\n",
    "\n",
    "\n",
    "def root_mean_square(df, cols):\n",
    "    \"\"\"\n",
    "    Root Mean Square = sqrt(1/n * (x^2 + y^2 + z^2))\n",
    "    \"\"\"\n",
    "    return np.sqrt(np.mean(np.square(df[cols]), axis=1))"
   ]
  },
  {
   "cell_type": "code",
   "execution_count": 11,
   "metadata": {
    "collapsed": false
   },
   "outputs": [],
   "source": [
    "# Read files, keeping only feature columns and target\n",
    "dfs = [pd.read_csv(f, names=COLS, usecols=CORE_FEATURES+['target']) for f in CSV_FILES]\n",
    "master = pd.concat(dfs).reset_index()"
   ]
  },
  {
   "cell_type": "code",
   "execution_count": 12,
   "metadata": {
    "collapsed": true
   },
   "outputs": [],
   "source": [
    "# Ensure targets are valid values (1-7)\n",
    "master_valid = master[master['target'].isin(VALID_TARGETS)]"
   ]
  },
  {
   "cell_type": "code",
   "execution_count": null,
   "metadata": {
    "collapsed": true
   },
   "outputs": [],
   "source": []
  }
 ],
 "metadata": {
  "kernelspec": {
   "display_name": "Python 3",
   "language": "python",
   "name": "python3"
  },
  "language_info": {
   "codemirror_mode": {
    "name": "ipython",
    "version": 3
   },
   "file_extension": ".py",
   "mimetype": "text/x-python",
   "name": "python",
   "nbconvert_exporter": "python",
   "pygments_lexer": "ipython3",
   "version": "3.4.4"
  }
 },
 "nbformat": 4,
 "nbformat_minor": 0
}
